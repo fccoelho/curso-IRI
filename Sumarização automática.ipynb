{
 "cells": [
  {
   "cell_type": "markdown",
   "metadata": {},
   "source": [
    "# Sumarização Automática com Transformers\n",
    "Realizando uma sumarização automática de resumos de artigos científicos usando um modelo pré-treinado"
   ]
  },
  {
   "cell_type": "code",
   "execution_count": 1,
   "metadata": {
    "ExecuteTime": {
     "end_time": "2021-11-08T18:47:38.888082Z",
     "start_time": "2021-11-08T18:47:36.256396Z"
    }
   },
   "outputs": [],
   "source": [
    "from transformers import pipeline"
   ]
  },
  {
   "cell_type": "code",
   "execution_count": 2,
   "metadata": {
    "ExecuteTime": {
     "end_time": "2021-11-08T18:48:49.640144Z",
     "start_time": "2021-11-08T18:48:37.157103Z"
    }
   },
   "outputs": [
    {
     "name": "stderr",
     "output_type": "stream",
     "text": [
      "No model was supplied, defaulted to sshleifer/distilbart-cnn-12-6 (https://huggingface.co/sshleifer/distilbart-cnn-12-6)\n"
     ]
    }
   ],
   "source": [
    "summarizer = pipeline(\"summarization\")"
   ]
  },
  {
   "cell_type": "markdown",
   "metadata": {},
   "source": [
    "# Carregando um corpus de teste"
   ]
  },
  {
   "cell_type": "code",
   "execution_count": 3,
   "metadata": {
    "ExecuteTime": {
     "end_time": "2021-11-08T18:51:24.088795Z",
     "start_time": "2021-11-08T18:51:24.086050Z"
    }
   },
   "outputs": [],
   "source": [
    "import pandas as pd\n",
    "from IPython.display import display,clear_output, HTML\n",
    "from ipywidgets import interact"
   ]
  },
  {
   "cell_type": "code",
   "execution_count": 4,
   "metadata": {
    "ExecuteTime": {
     "end_time": "2021-11-08T18:51:25.281683Z",
     "start_time": "2021-11-08T18:51:25.138469Z"
    }
   },
   "outputs": [
    {
     "data": {
      "text/html": [
       "<div>\n",
       "<style scoped>\n",
       "    .dataframe tbody tr th:only-of-type {\n",
       "        vertical-align: middle;\n",
       "    }\n",
       "\n",
       "    .dataframe tbody tr th {\n",
       "        vertical-align: top;\n",
       "    }\n",
       "\n",
       "    .dataframe thead th {\n",
       "        text-align: right;\n",
       "    }\n",
       "</style>\n",
       "<table border=\"1\" class=\"dataframe\">\n",
       "  <thead>\n",
       "    <tr style=\"text-align: right;\">\n",
       "      <th></th>\n",
       "      <th>title</th>\n",
       "      <th>abstract</th>\n",
       "    </tr>\n",
       "  </thead>\n",
       "  <tbody>\n",
       "    <tr>\n",
       "      <th>0</th>\n",
       "      <td>Ultrasound imaging for identification of cereb...</td>\n",
       "      <td>Zika virus is a novel teratogenic agent associ...</td>\n",
       "    </tr>\n",
       "    <tr>\n",
       "      <th>1</th>\n",
       "      <td>USP38 Inhibits Zika Virus Infection by Removin...</td>\n",
       "      <td>Zika virus (ZIKV) is a mosquito-borne flavivir...</td>\n",
       "    </tr>\n",
       "    <tr>\n",
       "      <th>2</th>\n",
       "      <td>Purification of Dengue and Zika Virus Non-stru...</td>\n",
       "      <td>Dengue Virus (DENV) and ZIKA Virus (ZIKV) are ...</td>\n",
       "    </tr>\n",
       "    <tr>\n",
       "      <th>3</th>\n",
       "      <td>WhatsApp-Based Focus Groups Among Mexican-Orig...</td>\n",
       "      <td>Despite unprecedented advances in worldwide ac...</td>\n",
       "    </tr>\n",
       "    <tr>\n",
       "      <th>4</th>\n",
       "      <td>Cellular and molecular basis of IR3535 percept...</td>\n",
       "      <td>IR3535 is among the most widely used synthetic...</td>\n",
       "    </tr>\n",
       "    <tr>\n",
       "      <th>...</th>\n",
       "      <td>...</td>\n",
       "      <td>...</td>\n",
       "    </tr>\n",
       "    <tr>\n",
       "      <th>9870</th>\n",
       "      <td>Zika virus: a report on three cases of human i...</td>\n",
       "      <td></td>\n",
       "    </tr>\n",
       "    <tr>\n",
       "      <th>9871</th>\n",
       "      <td>Epidemiological notes on some viruses isolated...</td>\n",
       "      <td></td>\n",
       "    </tr>\n",
       "    <tr>\n",
       "      <th>9872</th>\n",
       "      <td>Comparison by electron microscopy of the Ntaya...</td>\n",
       "      <td></td>\n",
       "    </tr>\n",
       "    <tr>\n",
       "      <th>9873</th>\n",
       "      <td>Zika virus.  II.  Pathogenicity and physical p...</td>\n",
       "      <td></td>\n",
       "    </tr>\n",
       "    <tr>\n",
       "      <th>9874</th>\n",
       "      <td>Zika virus.  I.  Isolations and serological sp...</td>\n",
       "      <td></td>\n",
       "    </tr>\n",
       "  </tbody>\n",
       "</table>\n",
       "<p>9875 rows × 2 columns</p>\n",
       "</div>"
      ],
      "text/plain": [
       "                                                  title  \\\n",
       "0     Ultrasound imaging for identification of cereb...   \n",
       "1     USP38 Inhibits Zika Virus Infection by Removin...   \n",
       "2     Purification of Dengue and Zika Virus Non-stru...   \n",
       "3     WhatsApp-Based Focus Groups Among Mexican-Orig...   \n",
       "4     Cellular and molecular basis of IR3535 percept...   \n",
       "...                                                 ...   \n",
       "9870  Zika virus: a report on three cases of human i...   \n",
       "9871  Epidemiological notes on some viruses isolated...   \n",
       "9872  Comparison by electron microscopy of the Ntaya...   \n",
       "9873  Zika virus.  II.  Pathogenicity and physical p...   \n",
       "9874  Zika virus.  I.  Isolations and serological sp...   \n",
       "\n",
       "                                               abstract  \n",
       "0     Zika virus is a novel teratogenic agent associ...  \n",
       "1     Zika virus (ZIKV) is a mosquito-borne flavivir...  \n",
       "2     Dengue Virus (DENV) and ZIKA Virus (ZIKV) are ...  \n",
       "3     Despite unprecedented advances in worldwide ac...  \n",
       "4     IR3535 is among the most widely used synthetic...  \n",
       "...                                                 ...  \n",
       "9870                                                     \n",
       "9871                                                     \n",
       "9872                                                     \n",
       "9873                                                     \n",
       "9874                                                     \n",
       "\n",
       "[9875 rows x 2 columns]"
      ]
     },
     "execution_count": 4,
     "metadata": {},
     "output_type": "execute_result"
    }
   ],
   "source": [
    "df = pd.read_parquet('abstracts.parquet')\n",
    "df"
   ]
  },
  {
   "cell_type": "code",
   "execution_count": 7,
   "metadata": {
    "ExecuteTime": {
     "end_time": "2021-11-08T18:55:57.431710Z",
     "start_time": "2021-11-08T18:55:48.733153Z"
    }
   },
   "outputs": [
    {
     "data": {
      "application/vnd.jupyter.widget-view+json": {
       "model_id": "bb1c08552f64461b9a3228ab5bdf0e82",
       "version_major": 2,
       "version_minor": 0
      },
      "text/plain": [
       "interactive(children=(IntSlider(value=20, description='id', max=9875), Output()), _dom_classes=('widget-intera…"
      ]
     },
     "metadata": {},
     "output_type": "display_data"
    }
   ],
   "source": [
    "@interact(id=(0, len(df)))\n",
    "def sumariza(id=20):\n",
    "    text = df.iloc[id].abstract.strip()\n",
    "    title = df.iloc[id].title\n",
    "    su = summarizer(text, max_length=len(text.split()), min_length=30, do_sample=False)\n",
    "    display(HTML(f\"<h2>{title}</h2><br><h3>Summary:</h3><p>{su[0]['summary_text']}</p><h3>Abstract</h3><p>{text}</p>\"))\n",
    "    "
   ]
  },
  {
   "cell_type": "code",
   "execution_count": null,
   "metadata": {},
   "outputs": [],
   "source": []
  }
 ],
 "metadata": {
  "hide_input": false,
  "interpreter": {
   "hash": "916dbcbb3f70747c44a77c7bcd40155683ae19c65e1c03b4aa3499c5328201f1"
  },
  "kernelspec": {
   "display_name": "Python 3 (ipykernel)",
   "language": "python",
   "name": "python3"
  },
  "language_info": {
   "codemirror_mode": {
    "name": "ipython",
    "version": 3
   },
   "file_extension": ".py",
   "mimetype": "text/x-python",
   "name": "python",
   "nbconvert_exporter": "python",
   "pygments_lexer": "ipython3",
   "version": "3.9.7"
  },
  "latex_envs": {
   "LaTeX_envs_menu_present": true,
   "autoclose": false,
   "autocomplete": true,
   "bibliofile": "biblio.bib",
   "cite_by": "apalike",
   "current_citInitial": 1,
   "eqLabelWithNumbers": true,
   "eqNumInitial": 1,
   "hotkeys": {
    "equation": "Ctrl-E",
    "itemize": "Ctrl-I"
   },
   "labels_anchors": false,
   "latex_user_defs": false,
   "report_style_numbering": false,
   "user_envs_cfg": false
  },
  "nbTranslate": {
   "displayLangs": [
    "*"
   ],
   "hotkey": "alt-t",
   "langInMainMenu": true,
   "sourceLang": "en",
   "targetLang": "fr",
   "useGoogleTranslate": true
  },
  "toc": {
   "base_numbering": 1,
   "nav_menu": {},
   "number_sections": true,
   "sideBar": true,
   "skip_h1_title": false,
   "title_cell": "Table of Contents",
   "title_sidebar": "Contents",
   "toc_cell": false,
   "toc_position": {},
   "toc_section_display": true,
   "toc_window_display": false
  },
  "varInspector": {
   "cols": {
    "lenName": 16,
    "lenType": 16,
    "lenVar": 40
   },
   "kernels_config": {
    "python": {
     "delete_cmd_postfix": "",
     "delete_cmd_prefix": "del ",
     "library": "var_list.py",
     "varRefreshCmd": "print(var_dic_list())"
    },
    "r": {
     "delete_cmd_postfix": ") ",
     "delete_cmd_prefix": "rm(",
     "library": "var_list.r",
     "varRefreshCmd": "cat(var_dic_list()) "
    }
   },
   "types_to_exclude": [
    "module",
    "function",
    "builtin_function_or_method",
    "instance",
    "_Feature"
   ],
   "window_display": false
  }
 },
 "nbformat": 4,
 "nbformat_minor": 2
}
